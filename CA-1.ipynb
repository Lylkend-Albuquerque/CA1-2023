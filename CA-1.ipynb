{
 "cells": [
  {
   "cell_type": "code",
   "execution_count": 42,
   "metadata": {},
   "outputs": [],
   "source": [
    "# Import packages\n",
    "import matplotlib.pyplot as plt\n",
    "import pandas as pd\n",
    "import seaborn as sns\n",
    "import numpy as np\n",
    "import seaborn as sns"
   ]
  },
  {
   "cell_type": "code",
   "execution_count": 43,
   "metadata": {},
   "outputs": [],
   "source": [
    "# Due the different version of python can be found and each machine or libriries \n",
    "# I just decided to use this library to avoid distraction and anoing warnigs\n",
    "import warnings\n",
    "warnings.filterwarnings(\"ignore\")"
   ]
  },
  {
   "cell_type": "code",
   "execution_count": null,
   "metadata": {},
   "outputs": [],
   "source": [
    "from IPython.display import Image\n",
    "Image(filename =r\"Pop_imig_2023.png\", width = 900, height = 400)"
   ]
  },
  {
   "cell_type": "code",
   "execution_count": 45,
   "metadata": {},
   "outputs": [],
   "source": [
    "# Import data\n",
    "df = pd.read_csv(\"PEA15.csv\")\n",
    "\n",
    "# df = sns.load_dataset(\"PEA15.csv\").rename(columns={\"Component\": \"Indicator\"})\n",
    "#df"
   ]
  },
  {
   "cell_type": "markdown",
   "metadata": {},
   "source": [
    "# Making sure that my data set is ready to - EDA\n",
    "    - df.head( )\n",
    "    - df.info( )\n",
    "    - df.describe( )\n",
    "    - df.shape\n",
    "    - df.dtypes"
   ]
  },
  {
   "cell_type": "code",
   "execution_count": null,
   "metadata": {},
   "outputs": [],
   "source": [
    "df.head(10)"
   ]
  },
  {
   "cell_type": "code",
   "execution_count": 68,
   "metadata": {},
   "outputs": [
    {
     "name": "stdout",
     "output_type": "stream",
     "text": [
      "<class 'pandas.core.frame.DataFrame'>\n",
      "RangeIndex: 80 entries, 0 to 79\n",
      "Data columns (total 4 columns):\n",
      " #   Column       Non-Null Count  Dtype  \n",
      "---  ------       --------------  -----  \n",
      " 0   Year         80 non-null     int64  \n",
      " 1   Component    80 non-null     object \n",
      " 2   VALUE        80 non-null     float64\n",
      " 3   real_number  80 non-null     float64\n",
      "dtypes: float64(2), int64(1), object(1)\n",
      "memory usage: 2.6+ KB\n"
     ]
    }
   ],
   "source": [
    "df.info()"
   ]
  },
  {
   "cell_type": "code",
   "execution_count": 67,
   "metadata": {},
   "outputs": [
    {
     "data": {
      "text/html": [
       "<div>\n",
       "<style scoped>\n",
       "    .dataframe tbody tr th:only-of-type {\n",
       "        vertical-align: middle;\n",
       "    }\n",
       "\n",
       "    .dataframe tbody tr th {\n",
       "        vertical-align: top;\n",
       "    }\n",
       "\n",
       "    .dataframe thead th {\n",
       "        text-align: right;\n",
       "    }\n",
       "</style>\n",
       "<table border=\"1\" class=\"dataframe\">\n",
       "  <thead>\n",
       "    <tr style=\"text-align: right;\">\n",
       "      <th></th>\n",
       "      <th>Year</th>\n",
       "      <th>VALUE</th>\n",
       "      <th>real_number</th>\n",
       "    </tr>\n",
       "  </thead>\n",
       "  <tbody>\n",
       "    <tr>\n",
       "      <th>count</th>\n",
       "      <td>80.000000</td>\n",
       "      <td>80.000000</td>\n",
       "      <td>8.000000e+01</td>\n",
       "    </tr>\n",
       "    <tr>\n",
       "      <th>mean</th>\n",
       "      <td>2018.500000</td>\n",
       "      <td>662.897500</td>\n",
       "      <td>6.628975e+05</td>\n",
       "    </tr>\n",
       "    <tr>\n",
       "      <th>std</th>\n",
       "      <td>2.890403</td>\n",
       "      <td>1624.673646</td>\n",
       "      <td>1.624674e+06</td>\n",
       "    </tr>\n",
       "    <tr>\n",
       "      <th>min</th>\n",
       "      <td>2014.000000</td>\n",
       "      <td>-8.500000</td>\n",
       "      <td>-8.500000e+03</td>\n",
       "    </tr>\n",
       "    <tr>\n",
       "      <th>25%</th>\n",
       "      <td>2016.000000</td>\n",
       "      <td>34.125000</td>\n",
       "      <td>3.412500e+04</td>\n",
       "    </tr>\n",
       "    <tr>\n",
       "      <th>50%</th>\n",
       "      <td>2018.500000</td>\n",
       "      <td>56.700000</td>\n",
       "      <td>5.670000e+04</td>\n",
       "    </tr>\n",
       "    <tr>\n",
       "      <th>75%</th>\n",
       "      <td>2021.000000</td>\n",
       "      <td>76.325000</td>\n",
       "      <td>7.632500e+04</td>\n",
       "    </tr>\n",
       "    <tr>\n",
       "      <th>max</th>\n",
       "      <td>2023.000000</td>\n",
       "      <td>5281.600000</td>\n",
       "      <td>5.281600e+06</td>\n",
       "    </tr>\n",
       "  </tbody>\n",
       "</table>\n",
       "</div>"
      ],
      "text/plain": [
       "              Year        VALUE   real_number\n",
       "count    80.000000    80.000000  8.000000e+01\n",
       "mean   2018.500000   662.897500  6.628975e+05\n",
       "std       2.890403  1624.673646  1.624674e+06\n",
       "min    2014.000000    -8.500000 -8.500000e+03\n",
       "25%    2016.000000    34.125000  3.412500e+04\n",
       "50%    2018.500000    56.700000  5.670000e+04\n",
       "75%    2021.000000    76.325000  7.632500e+04\n",
       "max    2023.000000  5281.600000  5.281600e+06"
      ]
     },
     "execution_count": 67,
     "metadata": {},
     "output_type": "execute_result"
    }
   ],
   "source": [
    "df.describe()"
   ]
  },
  {
   "cell_type": "code",
   "execution_count": 70,
   "metadata": {},
   "outputs": [
    {
     "data": {
      "text/plain": [
       "(80, 4)"
      ]
     },
     "execution_count": 70,
     "metadata": {},
     "output_type": "execute_result"
    }
   ],
   "source": [
    "df.shape"
   ]
  },
  {
   "cell_type": "code",
   "execution_count": 69,
   "metadata": {},
   "outputs": [
    {
     "data": {
      "text/plain": [
       "Year             int64\n",
       "Component       object\n",
       "VALUE          float64\n",
       "real_number    float64\n",
       "dtype: object"
      ]
     },
     "execution_count": 69,
     "metadata": {},
     "output_type": "execute_result"
    }
   ],
   "source": [
    "df.dtypes"
   ]
  },
  {
   "cell_type": "code",
   "execution_count": null,
   "metadata": {},
   "outputs": [],
   "source": [
    "df.count()"
   ]
  },
  {
   "cell_type": "code",
   "execution_count": 47,
   "metadata": {},
   "outputs": [
    {
     "name": "stdout",
     "output_type": "stream",
     "text": [
      "number of duplicate rows:  (0, 5)\n"
     ]
    }
   ],
   "source": [
    "#Verifing if I have any data duplicated (inconsitent)\n",
    "duplicate_rows_df = df[df.duplicated()]\n",
    "print(\"number of duplicate rows: \", duplicate_rows_df.shape)"
   ]
  },
  {
   "cell_type": "code",
   "execution_count": 48,
   "metadata": {},
   "outputs": [],
   "source": [
    "#Cleaning my dataset - I won\"t need these 2 columns\n",
    "to_drop = [\"STATISTIC Label\",\n",
    "            \"UNIT\"]\n",
    "df.drop(to_drop, inplace=True, axis=1)"
   ]
  },
  {
   "cell_type": "code",
   "execution_count": 49,
   "metadata": {},
   "outputs": [],
   "source": [
    "#Converting the numbers to be better in the visualisation\n",
    "df [\"real_number\"] = df [\"VALUE\"]* 1000"
   ]
  },
  {
   "cell_type": "code",
   "execution_count": null,
   "metadata": {},
   "outputs": [],
   "source": [
    "print(df.columns)"
   ]
  },
  {
   "cell_type": "code",
   "execution_count": 50,
   "metadata": {},
   "outputs": [],
   "source": [
    "def label_graph(ticksfont , x_label , y_label , title_label , fontsize):\n",
    "    \n",
    "    plt.xticks(fontsize = ticksfont)\n",
    "    plt.yticks(fontsize = ticksfont)\n",
    "\n",
    "    plt.xlabel(x_label, fontsize = fontsize)\n",
    "    plt.ylabel(y_label , fontsize = fontsize)\n",
    "    plt.title(title_label, fontsize = fontsize)"
   ]
  },
  {
   "cell_type": "code",
   "execution_count": null,
   "metadata": {},
   "outputs": [],
   "source": [
    "# Getting unique years in the DataFrame\n",
    "years = df[\"Year\"].unique()\n",
    "\n",
    "# Create a separate bar plot for each year\n",
    "for year in years:\n",
    "    year_data = df[df[\"Year\"] == year]\n",
    "\n",
    "# Filter out the \"population\" row for the current year\n",
    "    year_data = year_data[year_data[\"Component\"] != \"Population\"]\n",
    "\n",
    "# Group the data by \"Component\" and calculate the sum of \"VALUE\"\n",
    "    grouped = year_data.groupby(\"Component\")[\"real_number\"].sum()\n",
    "\n",
    "# Create a bar plot for the current year\n",
    "    plt.figure(figsize=(14, 5))\n",
    "    bars = plt.bar(grouped.index, grouped.values, color=\"skyblue\")\n",
    "    plt.grid(axis = \"y\")\n",
    "    label_graph(10 ,\"Component\" , \"Real Number\" , f\"Bar Plot for Year {year}\" , 16 )\n",
    "# Annotate each bar with its value\n",
    "    for bar in bars:\n",
    "        height = int (bar.get_height()) # Convert height to an integer better vizualisation\n",
    "        plt.annotate(f\"{height}\", xy=(bar.get_x() + bar.get_width() / 2, height), xytext=(0, 3), \n",
    "                     textcoords=\"offset points\", ha=\"center\", va=\"bottom\")\n",
    "\n",
    "# Show each plot\n",
    "    plt.show()"
   ]
  },
  {
   "cell_type": "code",
   "execution_count": null,
   "metadata": {},
   "outputs": [],
   "source": [
    "# Filter rows where \"Component\" contains \"Net migration\"\n",
    "subdata_netMig = df[df[\"Component\"].str.contains(\"Net migration\")]\n",
    "\n",
    "# Select \"Year\" and \"real_number\" columns\n",
    "subdata_netMig = subdata_netMig[[\"Year\", \"real_number\"]]"
   ]
  },
  {
   "cell_type": "code",
   "execution_count": null,
   "metadata": {},
   "outputs": [],
   "source": [
    "print(subdata_netMig)"
   ]
  },
  {
   "cell_type": "code",
   "execution_count": null,
   "metadata": {},
   "outputs": [],
   "source": [
    "subdata_netMig.describe()"
   ]
  },
  {
   "cell_type": "code",
   "execution_count": null,
   "metadata": {},
   "outputs": [],
   "source": [
    "# Creating a line plot for \"Net migration\" over the years\n",
    "plt.figure(figsize=(15, 7))\n",
    "plt.plot(subdata_netMig[\"Year\"], subdata_netMig[\"real_number\"], marker=\"o\", linestyle=\"-\", \n",
    "         c=\"b\", ms = 8) # \"ms\" abreviation to markersize \"c\" to color\n",
    "plt.grid(True)\n",
    "#plt.plot(2023, 77600 , marker = \"o\" , color = \"r\" , markersize = 15)\n",
    "\n",
    "plt.xticks(subdata_netMig[\"Year\"])\n",
    "label_graph(14 ,\"Year\" , \"Net Migration\" , \"Net Migration Over the Years\" , 16 )\n",
    "\n",
    "# \"-\", \"--\", \"-.\", \":\", \"None\", \" \", \"\", \"solid\", \"dashed\", \"dashdot\", \"dotted\""
   ]
  },
  {
   "cell_type": "code",
   "execution_count": null,
   "metadata": {},
   "outputs": [],
   "source": [
    "# Filter rows where \"Component\" contains \"Population change\" and creating a new df\n",
    "subdata_pop_chang = df[df[\"Component\"].str.contains(\"Population change\")]\n",
    "\n",
    "# Select \"Year\" and \"real_number\" columns\n",
    "subdata_pop_chang2 = subdata_pop_chang[[ \"real_number\"]]"
   ]
  },
  {
   "cell_type": "code",
   "execution_count": null,
   "metadata": {},
   "outputs": [],
   "source": [
    "subdata_pop_chang"
   ]
  },
  {
   "cell_type": "code",
   "execution_count": null,
   "metadata": {},
   "outputs": [],
   "source": [
    "subdata_pop_chang2.describe()"
   ]
  },
  {
   "cell_type": "markdown",
   "metadata": {},
   "source": [
    "## Using Normal distribution to explain or identify some information about your dataset\n",
    "    - df.head( )\n",
    "    - "
   ]
  },
  {
   "cell_type": "code",
   "execution_count": 71,
   "metadata": {},
   "outputs": [
    {
     "name": "stdout",
     "output_type": "stream",
     "text": [
      "    real_number\n",
      "0  58537.641073\n",
      "1  87196.779307\n",
      "2  39375.336739\n",
      "3  50727.612838\n",
      "4  63330.545073\n",
      "5  71701.919039\n",
      "6  55118.516001\n",
      "7  68955.896192\n",
      "8  73489.103352\n",
      "9  47143.645333\n"
     ]
    }
   ],
   "source": [
    "# Sample statistics for \"subdata_pop_chang2\"\n",
    "mean = 63540.0  # Mean of the \"real_number\" column\n",
    "std_dev = 20298.067779  # Standard deviation of the \"real_number\" column\n",
    "num_samples = 10  # Number of data points, matching the count in your statistics\n",
    "\n",
    "# Generate random data following a normal distribution\n",
    "normal_data = np.random.normal(mean, std_dev, num_samples)\n",
    "\n",
    "# Create a DataFrame with the generated data\n",
    "df_normal = pd.DataFrame({\"real_number\": normal_data})\n",
    "\n",
    "# Display the generated DataFrame\n",
    "print(df_normal)"
   ]
  },
  {
   "cell_type": "code",
   "execution_count": null,
   "metadata": {},
   "outputs": [],
   "source": [
    "ax = sns.distplot(df.Year, color = \"y\")"
   ]
  },
  {
   "cell_type": "code",
   "execution_count": null,
   "metadata": {},
   "outputs": [],
   "source": [
    "ax = sns.distplot(transposed_df.Immigrants, color = \"y\")"
   ]
  },
  {
   "cell_type": "code",
   "execution_count": null,
   "metadata": {},
   "outputs": [],
   "source": [
    "# Transposin the 'Component' column\n",
    "transposed_df = df.pivot(index='Year', columns='Component', values='real_number')\n",
    "print(transposed_df)"
   ]
  },
  {
   "cell_type": "code",
   "execution_count": 74,
   "metadata": {},
   "outputs": [
    {
     "data": {
      "text/html": [
       "<div>\n",
       "<style scoped>\n",
       "    .dataframe tbody tr th:only-of-type {\n",
       "        vertical-align: middle;\n",
       "    }\n",
       "\n",
       "    .dataframe tbody tr th {\n",
       "        vertical-align: top;\n",
       "    }\n",
       "\n",
       "    .dataframe thead th {\n",
       "        text-align: right;\n",
       "    }\n",
       "</style>\n",
       "<table border=\"1\" class=\"dataframe\">\n",
       "  <thead>\n",
       "    <tr style=\"text-align: right;\">\n",
       "      <th>Component</th>\n",
       "      <th>Annual births</th>\n",
       "      <th>Annual deaths</th>\n",
       "      <th>Emigrants</th>\n",
       "      <th>Immigrants</th>\n",
       "      <th>Natural increase</th>\n",
       "      <th>Net migration</th>\n",
       "      <th>Population</th>\n",
       "      <th>Population change</th>\n",
       "    </tr>\n",
       "    <tr>\n",
       "      <th>Year</th>\n",
       "      <th></th>\n",
       "      <th></th>\n",
       "      <th></th>\n",
       "      <th></th>\n",
       "      <th></th>\n",
       "      <th></th>\n",
       "      <th></th>\n",
       "      <th></th>\n",
       "    </tr>\n",
       "  </thead>\n",
       "  <tbody>\n",
       "    <tr>\n",
       "      <th>2014</th>\n",
       "      <td>68400.0</td>\n",
       "      <td>29200.0</td>\n",
       "      <td>75000.0</td>\n",
       "      <td>66500.0</td>\n",
       "      <td>39200.0</td>\n",
       "      <td>-8500.0</td>\n",
       "      <td>4645400.0</td>\n",
       "      <td>30800.0</td>\n",
       "    </tr>\n",
       "    <tr>\n",
       "      <th>2015</th>\n",
       "      <td>66400.0</td>\n",
       "      <td>29900.0</td>\n",
       "      <td>70000.0</td>\n",
       "      <td>75900.0</td>\n",
       "      <td>36500.0</td>\n",
       "      <td>5900.0</td>\n",
       "      <td>4687800.0</td>\n",
       "      <td>42300.0</td>\n",
       "    </tr>\n",
       "    <tr>\n",
       "      <th>2016</th>\n",
       "      <td>65400.0</td>\n",
       "      <td>29800.0</td>\n",
       "      <td>66200.0</td>\n",
       "      <td>82300.0</td>\n",
       "      <td>35600.0</td>\n",
       "      <td>16200.0</td>\n",
       "      <td>4739600.0</td>\n",
       "      <td>51800.0</td>\n",
       "    </tr>\n",
       "    <tr>\n",
       "      <th>2017</th>\n",
       "      <td>63400.0</td>\n",
       "      <td>31300.0</td>\n",
       "      <td>56100.0</td>\n",
       "      <td>95300.0</td>\n",
       "      <td>32100.0</td>\n",
       "      <td>39200.0</td>\n",
       "      <td>4810900.0</td>\n",
       "      <td>71300.0</td>\n",
       "    </tr>\n",
       "    <tr>\n",
       "      <th>2018</th>\n",
       "      <td>61600.0</td>\n",
       "      <td>32000.0</td>\n",
       "      <td>51600.0</td>\n",
       "      <td>96000.0</td>\n",
       "      <td>29600.0</td>\n",
       "      <td>44400.0</td>\n",
       "      <td>4884900.0</td>\n",
       "      <td>74000.0</td>\n",
       "    </tr>\n",
       "    <tr>\n",
       "      <th>2019</th>\n",
       "      <td>60500.0</td>\n",
       "      <td>30900.0</td>\n",
       "      <td>53100.0</td>\n",
       "      <td>97100.0</td>\n",
       "      <td>29600.0</td>\n",
       "      <td>44000.0</td>\n",
       "      <td>4958500.0</td>\n",
       "      <td>73600.0</td>\n",
       "    </tr>\n",
       "    <tr>\n",
       "      <th>2020</th>\n",
       "      <td>59100.0</td>\n",
       "      <td>32400.0</td>\n",
       "      <td>50900.0</td>\n",
       "      <td>95600.0</td>\n",
       "      <td>26700.0</td>\n",
       "      <td>44700.0</td>\n",
       "      <td>5029900.0</td>\n",
       "      <td>71400.0</td>\n",
       "    </tr>\n",
       "    <tr>\n",
       "      <th>2021</th>\n",
       "      <td>57300.0</td>\n",
       "      <td>34300.0</td>\n",
       "      <td>52300.0</td>\n",
       "      <td>74100.0</td>\n",
       "      <td>23000.0</td>\n",
       "      <td>21800.0</td>\n",
       "      <td>5074700.0</td>\n",
       "      <td>44800.0</td>\n",
       "    </tr>\n",
       "    <tr>\n",
       "      <th>2022</th>\n",
       "      <td>59700.0</td>\n",
       "      <td>33600.0</td>\n",
       "      <td>56100.0</td>\n",
       "      <td>107800.0</td>\n",
       "      <td>26100.0</td>\n",
       "      <td>51700.0</td>\n",
       "      <td>5184000.0</td>\n",
       "      <td>77800.0</td>\n",
       "    </tr>\n",
       "    <tr>\n",
       "      <th>2023</th>\n",
       "      <td>55500.0</td>\n",
       "      <td>35500.0</td>\n",
       "      <td>64000.0</td>\n",
       "      <td>141600.0</td>\n",
       "      <td>20000.0</td>\n",
       "      <td>77600.0</td>\n",
       "      <td>5281600.0</td>\n",
       "      <td>97600.0</td>\n",
       "    </tr>\n",
       "  </tbody>\n",
       "</table>\n",
       "</div>"
      ],
      "text/plain": [
       "Component  Annual births  Annual deaths  Emigrants  Immigrants  \\\n",
       "Year                                                             \n",
       "2014             68400.0        29200.0    75000.0     66500.0   \n",
       "2015             66400.0        29900.0    70000.0     75900.0   \n",
       "2016             65400.0        29800.0    66200.0     82300.0   \n",
       "2017             63400.0        31300.0    56100.0     95300.0   \n",
       "2018             61600.0        32000.0    51600.0     96000.0   \n",
       "2019             60500.0        30900.0    53100.0     97100.0   \n",
       "2020             59100.0        32400.0    50900.0     95600.0   \n",
       "2021             57300.0        34300.0    52300.0     74100.0   \n",
       "2022             59700.0        33600.0    56100.0    107800.0   \n",
       "2023             55500.0        35500.0    64000.0    141600.0   \n",
       "\n",
       "Component  Natural increase  Net migration  Population  Population change  \n",
       "Year                                                                       \n",
       "2014                39200.0        -8500.0   4645400.0            30800.0  \n",
       "2015                36500.0         5900.0   4687800.0            42300.0  \n",
       "2016                35600.0        16200.0   4739600.0            51800.0  \n",
       "2017                32100.0        39200.0   4810900.0            71300.0  \n",
       "2018                29600.0        44400.0   4884900.0            74000.0  \n",
       "2019                29600.0        44000.0   4958500.0            73600.0  \n",
       "2020                26700.0        44700.0   5029900.0            71400.0  \n",
       "2021                23000.0        21800.0   5074700.0            44800.0  \n",
       "2022                26100.0        51700.0   5184000.0            77800.0  \n",
       "2023                20000.0        77600.0   5281600.0            97600.0  "
      ]
     },
     "execution_count": 74,
     "metadata": {},
     "output_type": "execute_result"
    }
   ],
   "source": [
    "transposed_df.head(10)"
   ]
  },
  {
   "cell_type": "code",
   "execution_count": null,
   "metadata": {},
   "outputs": [],
   "source": [
    "transposed_df.describe()"
   ]
  },
  {
   "cell_type": "code",
   "execution_count": 51,
   "metadata": {},
   "outputs": [],
   "source": [
    "# Import the library for standartization of the data\n",
    "from sklearn.preprocessing import StandardScaler"
   ]
  },
  {
   "cell_type": "code",
   "execution_count": 52,
   "metadata": {},
   "outputs": [],
   "source": [
    "obj_std = StandardScaler().fit(transposed_df) # Train the model by calling a method, fit() just creating a object"
   ]
  },
  {
   "cell_type": "code",
   "execution_count": 53,
   "metadata": {},
   "outputs": [],
   "source": [
    "df_std = obj_std.transform(transposed_df) # this moment I'm applying the preprocessor"
   ]
  },
  {
   "cell_type": "code",
   "execution_count": 54,
   "metadata": {},
   "outputs": [
    {
     "data": {
      "text/plain": [
       "array([[ 1.70210116, -1.36337604,  1.89290041, -1.32207002,  1.61038827,\n",
       "        -1.77937466, -1.40079819, -1.70021061],\n",
       "       [ 1.191726  , -1.00859417,  1.28110325, -0.85697054,  1.14585319,\n",
       "        -1.17219468, -1.19190767, -1.10300774],\n",
       "       [ 0.93653842, -1.05927729,  0.81613741, -0.54030706,  0.99100817,\n",
       "        -0.73789234, -0.93670651, -0.60966624],\n",
       "       [ 0.42616326, -0.29903043, -0.41969285,  0.10291563,  0.38883307,\n",
       "         0.23190902, -0.58543541,  0.40298211],\n",
       "       [-0.03317439,  0.05575144, -0.97031029,  0.1375507 , -0.04129201,\n",
       "         0.45116846, -0.22086232,  0.54319496],\n",
       "       [-0.31388072, -0.50176293, -0.78677115,  0.19197723, -0.04129201,\n",
       "         0.43430235,  0.14174011,  0.52242269],\n",
       "       [-0.67114334,  0.25848393, -1.05596189,  0.11775923, -0.54023709,\n",
       "         0.46381804,  0.49350387,  0.40817518],\n",
       "       [-1.13048098,  1.22146329, -0.88465869, -0.94603214, -1.1768222 ,\n",
       "        -0.50176679,  0.71421839, -0.97318103],\n",
       "       [-0.51803079,  0.86668142, -0.41969285,  0.72139899, -0.64346711,\n",
       "         0.75897497,  1.25270269,  0.74053156],\n",
       "       [-1.58981863,  1.82966078,  0.54694666,  2.39377798, -1.69297228,\n",
       "         1.85105563,  1.73354504,  1.76875911]])"
      ]
     },
     "execution_count": 54,
     "metadata": {},
     "output_type": "execute_result"
    }
   ],
   "source": [
    "df_std"
   ]
  },
  {
   "cell_type": "code",
   "execution_count": 55,
   "metadata": {},
   "outputs": [
    {
     "data": {
      "image/png": "[encoded data removed]",
      "text/plain": [
       "<Figure size 640x480 with 1 Axes>"
      ]
     },
     "metadata": {},
     "output_type": "display_data"
    }
   ],
   "source": [
    "ax = sns.boxplot(data = df_std)\n",
    "# printing this box plot to show that the all the means are close to \n",
    "# each other and close to \"0\" in other words, standardized."
   ]
  },
  {
   "cell_type": "code",
   "execution_count": 56,
   "metadata": {},
   "outputs": [],
   "source": [
    "df_std = pd.DataFrame(df_std) # converting into a data frame to be easier to be called"
   ]
  },
  {
   "cell_type": "code",
   "execution_count": 57,
   "metadata": {},
   "outputs": [
    {
     "data": {
      "text/html": [
       "<div>\n",
       "<style scoped>\n",
       "    .dataframe tbody tr th:only-of-type {\n",
       "        vertical-align: middle;\n",
       "    }\n",
       "\n",
       "    .dataframe tbody tr th {\n",
       "        vertical-align: top;\n",
       "    }\n",
       "\n",
       "    .dataframe thead th {\n",
       "        text-align: right;\n",
       "    }\n",
       "</style>\n",
       "<table border=\"1\" class=\"dataframe\">\n",
       "  <thead>\n",
       "    <tr style=\"text-align: right;\">\n",
       "      <th></th>\n",
       "      <th>0</th>\n",
       "      <th>1</th>\n",
       "      <th>2</th>\n",
       "      <th>3</th>\n",
       "      <th>4</th>\n",
       "      <th>5</th>\n",
       "      <th>6</th>\n",
       "      <th>7</th>\n",
       "    </tr>\n",
       "  </thead>\n",
       "  <tbody>\n",
       "    <tr>\n",
       "      <th>count</th>\n",
       "      <td>1.000000e+01</td>\n",
       "      <td>10.000000</td>\n",
       "      <td>1.000000e+01</td>\n",
       "      <td>1.000000e+01</td>\n",
       "      <td>1.000000e+01</td>\n",
       "      <td>1.000000e+01</td>\n",
       "      <td>1.000000e+01</td>\n",
       "      <td>1.000000e+01</td>\n",
       "    </tr>\n",
       "    <tr>\n",
       "      <th>mean</th>\n",
       "      <td>1.776357e-16</td>\n",
       "      <td>0.000000</td>\n",
       "      <td>-5.551115e-17</td>\n",
       "      <td>-4.440892e-17</td>\n",
       "      <td>2.220446e-17</td>\n",
       "      <td>2.220446e-17</td>\n",
       "      <td>2.220446e-17</td>\n",
       "      <td>2.220446e-17</td>\n",
       "    </tr>\n",
       "    <tr>\n",
       "      <th>std</th>\n",
       "      <td>1.054093e+00</td>\n",
       "      <td>1.054093</td>\n",
       "      <td>1.054093e+00</td>\n",
       "      <td>1.054093e+00</td>\n",
       "      <td>1.054093e+00</td>\n",
       "      <td>1.054093e+00</td>\n",
       "      <td>1.054093e+00</td>\n",
       "      <td>1.054093e+00</td>\n",
       "    </tr>\n",
       "    <tr>\n",
       "      <th>min</th>\n",
       "      <td>-1.589819e+00</td>\n",
       "      <td>-1.363376</td>\n",
       "      <td>-1.055962e+00</td>\n",
       "      <td>-1.322070e+00</td>\n",
       "      <td>-1.692972e+00</td>\n",
       "      <td>-1.779375e+00</td>\n",
       "      <td>-1.400798e+00</td>\n",
       "      <td>-1.700211e+00</td>\n",
       "    </tr>\n",
       "    <tr>\n",
       "      <th>25%</th>\n",
       "      <td>-6.328652e-01</td>\n",
       "      <td>-0.881886</td>\n",
       "      <td>-8.601868e-01</td>\n",
       "      <td>-7.778047e-01</td>\n",
       "      <td>-6.176596e-01</td>\n",
       "      <td>-6.788609e-01</td>\n",
       "      <td>-8.488887e-01</td>\n",
       "      <td>-8.823023e-01</td>\n",
       "    </tr>\n",
       "    <tr>\n",
       "      <th>50%</th>\n",
       "      <td>-1.735276e-01</td>\n",
       "      <td>-0.121639</td>\n",
       "      <td>-4.196929e-01</td>\n",
       "      <td>1.103374e-01</td>\n",
       "      <td>-4.129201e-02</td>\n",
       "      <td>3.331057e-01</td>\n",
       "      <td>-3.956111e-02</td>\n",
       "      <td>4.055786e-01</td>\n",
       "    </tr>\n",
       "    <tr>\n",
       "      <th>75%</th>\n",
       "      <td>8.089446e-01</td>\n",
       "      <td>0.714632</td>\n",
       "      <td>7.488397e-01</td>\n",
       "      <td>1.783706e-01</td>\n",
       "      <td>8.404644e-01</td>\n",
       "      <td>4.606556e-01</td>\n",
       "      <td>6.590398e-01</td>\n",
       "      <td>5.380019e-01</td>\n",
       "    </tr>\n",
       "    <tr>\n",
       "      <th>max</th>\n",
       "      <td>1.702101e+00</td>\n",
       "      <td>1.829661</td>\n",
       "      <td>1.892900e+00</td>\n",
       "      <td>2.393778e+00</td>\n",
       "      <td>1.610388e+00</td>\n",
       "      <td>1.851056e+00</td>\n",
       "      <td>1.733545e+00</td>\n",
       "      <td>1.768759e+00</td>\n",
       "    </tr>\n",
       "  </tbody>\n",
       "</table>\n",
       "</div>"
      ],
      "text/plain": [
       "                  0          1             2             3             4  \\\n",
       "count  1.000000e+01  10.000000  1.000000e+01  1.000000e+01  1.000000e+01   \n",
       "mean   1.776357e-16   0.000000 -5.551115e-17 -4.440892e-17  2.220446e-17   \n",
       "std    1.054093e+00   1.054093  1.054093e+00  1.054093e+00  1.054093e+00   \n",
       "min   -1.589819e+00  -1.363376 -1.055962e+00 -1.322070e+00 -1.692972e+00   \n",
       "25%   -6.328652e-01  -0.881886 -8.601868e-01 -7.778047e-01 -6.176596e-01   \n",
       "50%   -1.735276e-01  -0.121639 -4.196929e-01  1.103374e-01 -4.129201e-02   \n",
       "75%    8.089446e-01   0.714632  7.488397e-01  1.783706e-01  8.404644e-01   \n",
       "max    1.702101e+00   1.829661  1.892900e+00  2.393778e+00  1.610388e+00   \n",
       "\n",
       "                  5             6             7  \n",
       "count  1.000000e+01  1.000000e+01  1.000000e+01  \n",
       "mean   2.220446e-17  2.220446e-17  2.220446e-17  \n",
       "std    1.054093e+00  1.054093e+00  1.054093e+00  \n",
       "min   -1.779375e+00 -1.400798e+00 -1.700211e+00  \n",
       "25%   -6.788609e-01 -8.488887e-01 -8.823023e-01  \n",
       "50%    3.331057e-01 -3.956111e-02  4.055786e-01  \n",
       "75%    4.606556e-01  6.590398e-01  5.380019e-01  \n",
       "max    1.851056e+00  1.733545e+00  1.768759e+00  "
      ]
     },
     "execution_count": 57,
     "metadata": {},
     "output_type": "execute_result"
    }
   ],
   "source": [
    "df_std.describe()"
   ]
  },
  {
   "cell_type": "code",
   "execution_count": 58,
   "metadata": {},
   "outputs": [],
   "source": [
    "# Import the library for normalisation of the data\n",
    "from sklearn.preprocessing import MinMaxScaler"
   ]
  },
  {
   "cell_type": "code",
   "execution_count": 60,
   "metadata": {},
   "outputs": [],
   "source": [
    "obj_norm = MinMaxScaler().fit(transposed_df) # just creating a object to normalisation"
   ]
  },
  {
   "cell_type": "code",
   "execution_count": 61,
   "metadata": {},
   "outputs": [],
   "source": [
    "df_norm = obj_norm.transform(transposed_df) # this moment I'm applying the preprocessor"
   ]
  },
  {
   "cell_type": "code",
   "execution_count": 73,
   "metadata": {},
   "outputs": [
    {
     "data": {
      "text/html": [
       "<div>\n",
       "<style scoped>\n",
       "    .dataframe tbody tr th:only-of-type {\n",
       "        vertical-align: middle;\n",
       "    }\n",
       "\n",
       "    .dataframe tbody tr th {\n",
       "        vertical-align: top;\n",
       "    }\n",
       "\n",
       "    .dataframe thead th {\n",
       "        text-align: right;\n",
       "    }\n",
       "</style>\n",
       "<table border=\"1\" class=\"dataframe\">\n",
       "  <thead>\n",
       "    <tr style=\"text-align: right;\">\n",
       "      <th></th>\n",
       "      <th>0</th>\n",
       "      <th>1</th>\n",
       "      <th>2</th>\n",
       "      <th>3</th>\n",
       "      <th>4</th>\n",
       "      <th>5</th>\n",
       "      <th>6</th>\n",
       "      <th>7</th>\n",
       "    </tr>\n",
       "  </thead>\n",
       "  <tbody>\n",
       "    <tr>\n",
       "      <th>0</th>\n",
       "      <td>1.000000</td>\n",
       "      <td>0.000000</td>\n",
       "      <td>1.000000</td>\n",
       "      <td>0.000000</td>\n",
       "      <td>1.000000</td>\n",
       "      <td>0.000000</td>\n",
       "      <td>0.000000</td>\n",
       "      <td>0.000000</td>\n",
       "    </tr>\n",
       "    <tr>\n",
       "      <th>1</th>\n",
       "      <td>0.844961</td>\n",
       "      <td>0.111111</td>\n",
       "      <td>0.792531</td>\n",
       "      <td>0.125166</td>\n",
       "      <td>0.859375</td>\n",
       "      <td>0.167247</td>\n",
       "      <td>0.066646</td>\n",
       "      <td>0.172156</td>\n",
       "    </tr>\n",
       "    <tr>\n",
       "      <th>2</th>\n",
       "      <td>0.767442</td>\n",
       "      <td>0.095238</td>\n",
       "      <td>0.634855</td>\n",
       "      <td>0.210386</td>\n",
       "      <td>0.812500</td>\n",
       "      <td>0.286876</td>\n",
       "      <td>0.148067</td>\n",
       "      <td>0.314371</td>\n",
       "    </tr>\n",
       "    <tr>\n",
       "      <th>3</th>\n",
       "      <td>0.612403</td>\n",
       "      <td>0.333333</td>\n",
       "      <td>0.215768</td>\n",
       "      <td>0.383489</td>\n",
       "      <td>0.630208</td>\n",
       "      <td>0.554007</td>\n",
       "      <td>0.260138</td>\n",
       "      <td>0.606287</td>\n",
       "    </tr>\n",
       "    <tr>\n",
       "      <th>4</th>\n",
       "      <td>0.472868</td>\n",
       "      <td>0.444444</td>\n",
       "      <td>0.029046</td>\n",
       "      <td>0.392810</td>\n",
       "      <td>0.500000</td>\n",
       "      <td>0.614402</td>\n",
       "      <td>0.376454</td>\n",
       "      <td>0.646707</td>\n",
       "    </tr>\n",
       "  </tbody>\n",
       "</table>\n",
       "</div>"
      ],
      "text/plain": [
       "          0         1         2         3         4         5         6  \\\n",
       "0  1.000000  0.000000  1.000000  0.000000  1.000000  0.000000  0.000000   \n",
       "1  0.844961  0.111111  0.792531  0.125166  0.859375  0.167247  0.066646   \n",
       "2  0.767442  0.095238  0.634855  0.210386  0.812500  0.286876  0.148067   \n",
       "3  0.612403  0.333333  0.215768  0.383489  0.630208  0.554007  0.260138   \n",
       "4  0.472868  0.444444  0.029046  0.392810  0.500000  0.614402  0.376454   \n",
       "\n",
       "          7  \n",
       "0  0.000000  \n",
       "1  0.172156  \n",
       "2  0.314371  \n",
       "3  0.606287  \n",
       "4  0.646707  "
      ]
     },
     "execution_count": 73,
     "metadata": {},
     "output_type": "execute_result"
    }
   ],
   "source": [
    "df_norm.head()"
   ]
  },
  {
   "cell_type": "code",
   "execution_count": 64,
   "metadata": {},
   "outputs": [],
   "source": [
    "df_norm = pd.DataFrame(df_norm) # converting into a data frame to be easier to be called"
   ]
  },
  {
   "cell_type": "code",
   "execution_count": 65,
   "metadata": {},
   "outputs": [
    {
     "data": {
      "text/html": [
       "<div>\n",
       "<style scoped>\n",
       "    .dataframe tbody tr th:only-of-type {\n",
       "        vertical-align: middle;\n",
       "    }\n",
       "\n",
       "    .dataframe tbody tr th {\n",
       "        vertical-align: top;\n",
       "    }\n",
       "\n",
       "    .dataframe thead th {\n",
       "        text-align: right;\n",
       "    }\n",
       "</style>\n",
       "<table border=\"1\" class=\"dataframe\">\n",
       "  <thead>\n",
       "    <tr style=\"text-align: right;\">\n",
       "      <th></th>\n",
       "      <th>0</th>\n",
       "      <th>1</th>\n",
       "      <th>2</th>\n",
       "      <th>3</th>\n",
       "      <th>4</th>\n",
       "      <th>5</th>\n",
       "      <th>6</th>\n",
       "      <th>7</th>\n",
       "    </tr>\n",
       "  </thead>\n",
       "  <tbody>\n",
       "    <tr>\n",
       "      <th>count</th>\n",
       "      <td>10.000000</td>\n",
       "      <td>10.000000</td>\n",
       "      <td>10.000000</td>\n",
       "      <td>10.000000</td>\n",
       "      <td>10.000000</td>\n",
       "      <td>10.000000</td>\n",
       "      <td>10.000000</td>\n",
       "      <td>10.000000</td>\n",
       "    </tr>\n",
       "    <tr>\n",
       "      <th>mean</th>\n",
       "      <td>0.482946</td>\n",
       "      <td>0.426984</td>\n",
       "      <td>0.358091</td>\n",
       "      <td>0.355792</td>\n",
       "      <td>0.512500</td>\n",
       "      <td>0.490128</td>\n",
       "      <td>0.446919</td>\n",
       "      <td>0.490120</td>\n",
       "    </tr>\n",
       "    <tr>\n",
       "      <th>std</th>\n",
       "      <td>0.320206</td>\n",
       "      <td>0.330122</td>\n",
       "      <td>0.357457</td>\n",
       "      <td>0.283675</td>\n",
       "      <td>0.319097</td>\n",
       "      <td>0.290349</td>\n",
       "      <td>0.336304</td>\n",
       "      <td>0.303863</td>\n",
       "    </tr>\n",
       "    <tr>\n",
       "      <th>min</th>\n",
       "      <td>0.000000</td>\n",
       "      <td>0.000000</td>\n",
       "      <td>0.000000</td>\n",
       "      <td>0.000000</td>\n",
       "      <td>0.000000</td>\n",
       "      <td>0.000000</td>\n",
       "      <td>0.000000</td>\n",
       "      <td>0.000000</td>\n",
       "    </tr>\n",
       "    <tr>\n",
       "      <th>25%</th>\n",
       "      <td>0.290698</td>\n",
       "      <td>0.150794</td>\n",
       "      <td>0.066390</td>\n",
       "      <td>0.146471</td>\n",
       "      <td>0.325521</td>\n",
       "      <td>0.303136</td>\n",
       "      <td>0.176085</td>\n",
       "      <td>0.235778</td>\n",
       "    </tr>\n",
       "    <tr>\n",
       "      <th>50%</th>\n",
       "      <td>0.430233</td>\n",
       "      <td>0.388889</td>\n",
       "      <td>0.215768</td>\n",
       "      <td>0.385486</td>\n",
       "      <td>0.500000</td>\n",
       "      <td>0.581882</td>\n",
       "      <td>0.434297</td>\n",
       "      <td>0.607036</td>\n",
       "    </tr>\n",
       "    <tr>\n",
       "      <th>75%</th>\n",
       "      <td>0.728682</td>\n",
       "      <td>0.650794</td>\n",
       "      <td>0.612033</td>\n",
       "      <td>0.403795</td>\n",
       "      <td>0.766927</td>\n",
       "      <td>0.617015</td>\n",
       "      <td>0.657183</td>\n",
       "      <td>0.645210</td>\n",
       "    </tr>\n",
       "    <tr>\n",
       "      <th>max</th>\n",
       "      <td>1.000000</td>\n",
       "      <td>1.000000</td>\n",
       "      <td>1.000000</td>\n",
       "      <td>1.000000</td>\n",
       "      <td>1.000000</td>\n",
       "      <td>1.000000</td>\n",
       "      <td>1.000000</td>\n",
       "      <td>1.000000</td>\n",
       "    </tr>\n",
       "  </tbody>\n",
       "</table>\n",
       "</div>"
      ],
      "text/plain": [
       "               0          1          2          3          4          5  \\\n",
       "count  10.000000  10.000000  10.000000  10.000000  10.000000  10.000000   \n",
       "mean    0.482946   0.426984   0.358091   0.355792   0.512500   0.490128   \n",
       "std     0.320206   0.330122   0.357457   0.283675   0.319097   0.290349   \n",
       "min     0.000000   0.000000   0.000000   0.000000   0.000000   0.000000   \n",
       "25%     0.290698   0.150794   0.066390   0.146471   0.325521   0.303136   \n",
       "50%     0.430233   0.388889   0.215768   0.385486   0.500000   0.581882   \n",
       "75%     0.728682   0.650794   0.612033   0.403795   0.766927   0.617015   \n",
       "max     1.000000   1.000000   1.000000   1.000000   1.000000   1.000000   \n",
       "\n",
       "               6          7  \n",
       "count  10.000000  10.000000  \n",
       "mean    0.446919   0.490120  \n",
       "std     0.336304   0.303863  \n",
       "min     0.000000   0.000000  \n",
       "25%     0.176085   0.235778  \n",
       "50%     0.434297   0.607036  \n",
       "75%     0.657183   0.645210  \n",
       "max     1.000000   1.000000  "
      ]
     },
     "execution_count": 65,
     "metadata": {},
     "output_type": "execute_result"
    }
   ],
   "source": [
    "df_norm.describe() # we can see that my data it's normalized from 0.3 - 1.0"
   ]
  },
  {
   "cell_type": "code",
   "execution_count": 66,
   "metadata": {},
   "outputs": [
    {
     "data": {
      "image/png": "[encoded data removed]",
      "text/plain": [
       "<Figure size 640x480 with 1 Axes>"
      ]
     },
     "metadata": {},
     "output_type": "display_data"
    }
   ],
   "source": [
    "ax = sns.boxplot(data = df_norm)\n",
    "# printing this box plot to show that the all the data is normalized but the menas not that close to each other"
   ]
  },
  {
   "cell_type": "code",
   "execution_count": 78,
   "metadata": {},
   "outputs": [
    {
     "data": {
      "image/png": "[encoded data removed]",
      "text/plain": [
       "<Figure size 800x500 with 1 Axes>"
      ]
     },
     "metadata": {},
     "output_type": "display_data"
    }
   ],
   "source": [
    "from scipy.stats import norm\n",
    "\n",
    "# Mean and standard deviation for variable 7\n",
    "mean = 0.490120\n",
    "std_dev = 0.303863\n",
    "\n",
    "# Generate values for the x-axis\n",
    "x = np.linspace(-1, 2, 1000)  # Adjust the range as needed\n",
    "\n",
    "# Calculate the PDF for the normal distribution\n",
    "pdf = norm.pdf(x, loc=mean, scale=std_dev)\n",
    "\n",
    "# Create a plot of the normal distribution\n",
    "plt.figure(figsize=(8, 5))\n",
    "plt.plot(x, pdf, color= \"b\", label=\"Normal Distribution\")\n",
    "label_graph(14 ,\"Value\" , \"Probability Density\" , \"Normal Distribution for Population Change\" , 16 )\n",
    "plt.grid(True)\n",
    "\n",
    "# Show the plot\n",
    "plt.show()"
   ]
  },
  {
   "cell_type": "code",
   "execution_count": null,
   "metadata": {},
   "outputs": [],
   "source": []
  }
 ],
 "metadata": {
  "kernelspec": {
   "display_name": "Python 3 (ipykernel)",
   "language": "python",
   "name": "python3"
  },
  "language_info": {
   "codemirror_mode": {
    "name": "ipython",
    "version": 3
   },
   "file_extension": ".py",
   "mimetype": "text/x-python",
   "name": "python",
   "nbconvert_exporter": "python",
   "pygments_lexer": "ipython3",
   "version": "3.11.4"
  }
 },
 "nbformat": 4,
 "nbformat_minor": 4
}
