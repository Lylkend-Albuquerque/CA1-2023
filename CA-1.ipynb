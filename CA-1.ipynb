{
 "cells": [
  {
   "cell_type": "code",
   "execution_count": 1,
   "metadata": {},
   "outputs": [],
   "source": [
    "# Import packages\n",
    "import matplotlib.pyplot as plt\n",
    "import pandas as pd\n",
    "import seaborn as sns"
   ]
  },
  {
   "cell_type": "code",
   "execution_count": 3,
   "metadata": {},
   "outputs": [
    {
     "data": {
      "text/html": [
       "<div>\n",
       "<style scoped>\n",
       "    .dataframe tbody tr th:only-of-type {\n",
       "        vertical-align: middle;\n",
       "    }\n",
       "\n",
       "    .dataframe tbody tr th {\n",
       "        vertical-align: top;\n",
       "    }\n",
       "\n",
       "    .dataframe thead th {\n",
       "        text-align: right;\n",
       "    }\n",
       "</style>\n",
       "<table border=\"1\" class=\"dataframe\">\n",
       "  <thead>\n",
       "    <tr style=\"text-align: right;\">\n",
       "      <th></th>\n",
       "      <th>STATISTIC Label</th>\n",
       "      <th>Year</th>\n",
       "      <th>Component</th>\n",
       "      <th>UNIT</th>\n",
       "      <th>VALUE</th>\n",
       "    </tr>\n",
       "  </thead>\n",
       "  <tbody>\n",
       "    <tr>\n",
       "      <th>0</th>\n",
       "      <td>Annual Population Change</td>\n",
       "      <td>2013</td>\n",
       "      <td>Annual births</td>\n",
       "      <td>Thousand</td>\n",
       "      <td>69.4</td>\n",
       "    </tr>\n",
       "    <tr>\n",
       "      <th>1</th>\n",
       "      <td>Annual Population Change</td>\n",
       "      <td>2013</td>\n",
       "      <td>Annual deaths</td>\n",
       "      <td>Thousand</td>\n",
       "      <td>29.8</td>\n",
       "    </tr>\n",
       "    <tr>\n",
       "      <th>2</th>\n",
       "      <td>Annual Population Change</td>\n",
       "      <td>2013</td>\n",
       "      <td>Natural increase</td>\n",
       "      <td>Thousand</td>\n",
       "      <td>39.6</td>\n",
       "    </tr>\n",
       "    <tr>\n",
       "      <th>3</th>\n",
       "      <td>Annual Population Change</td>\n",
       "      <td>2013</td>\n",
       "      <td>Immigrants</td>\n",
       "      <td>Thousand</td>\n",
       "      <td>62.7</td>\n",
       "    </tr>\n",
       "    <tr>\n",
       "      <th>4</th>\n",
       "      <td>Annual Population Change</td>\n",
       "      <td>2013</td>\n",
       "      <td>Emigrants</td>\n",
       "      <td>Thousand</td>\n",
       "      <td>81.3</td>\n",
       "    </tr>\n",
       "    <tr>\n",
       "      <th>...</th>\n",
       "      <td>...</td>\n",
       "      <td>...</td>\n",
       "      <td>...</td>\n",
       "      <td>...</td>\n",
       "      <td>...</td>\n",
       "    </tr>\n",
       "    <tr>\n",
       "      <th>83</th>\n",
       "      <td>Annual Population Change</td>\n",
       "      <td>2023</td>\n",
       "      <td>Immigrants</td>\n",
       "      <td>Thousand</td>\n",
       "      <td>141.6</td>\n",
       "    </tr>\n",
       "    <tr>\n",
       "      <th>84</th>\n",
       "      <td>Annual Population Change</td>\n",
       "      <td>2023</td>\n",
       "      <td>Emigrants</td>\n",
       "      <td>Thousand</td>\n",
       "      <td>64.0</td>\n",
       "    </tr>\n",
       "    <tr>\n",
       "      <th>85</th>\n",
       "      <td>Annual Population Change</td>\n",
       "      <td>2023</td>\n",
       "      <td>Net migration</td>\n",
       "      <td>Thousand</td>\n",
       "      <td>77.6</td>\n",
       "    </tr>\n",
       "    <tr>\n",
       "      <th>86</th>\n",
       "      <td>Annual Population Change</td>\n",
       "      <td>2023</td>\n",
       "      <td>Population change</td>\n",
       "      <td>Thousand</td>\n",
       "      <td>97.6</td>\n",
       "    </tr>\n",
       "    <tr>\n",
       "      <th>87</th>\n",
       "      <td>Annual Population Change</td>\n",
       "      <td>2023</td>\n",
       "      <td>Population</td>\n",
       "      <td>Thousand</td>\n",
       "      <td>5281.6</td>\n",
       "    </tr>\n",
       "  </tbody>\n",
       "</table>\n",
       "<p>88 rows × 5 columns</p>\n",
       "</div>"
      ],
      "text/plain": [
       "             STATISTIC Label  Year          Component      UNIT   VALUE\n",
       "0   Annual Population Change  2013      Annual births  Thousand    69.4\n",
       "1   Annual Population Change  2013      Annual deaths  Thousand    29.8\n",
       "2   Annual Population Change  2013   Natural increase  Thousand    39.6\n",
       "3   Annual Population Change  2013         Immigrants  Thousand    62.7\n",
       "4   Annual Population Change  2013          Emigrants  Thousand    81.3\n",
       "..                       ...   ...                ...       ...     ...\n",
       "83  Annual Population Change  2023         Immigrants  Thousand   141.6\n",
       "84  Annual Population Change  2023          Emigrants  Thousand    64.0\n",
       "85  Annual Population Change  2023      Net migration  Thousand    77.6\n",
       "86  Annual Population Change  2023  Population change  Thousand    97.6\n",
       "87  Annual Population Change  2023         Population  Thousand  5281.6\n",
       "\n",
       "[88 rows x 5 columns]"
      ]
     },
     "execution_count": 3,
     "metadata": {},
     "output_type": "execute_result"
    }
   ],
   "source": [
    "# Import data\n",
    "df = pd.read_csv(\"PEA15.csv\")\n",
    "#df = sns.load_dataset(\"PEA15.csv\").rename(columns={\"Component\": \"Indicator\"})\n",
    "df"
   ]
  },
  {
   "cell_type": "code",
   "execution_count": null,
   "metadata": {},
   "outputs": [],
   "source": [
    "sns.scatterplot(data=df, x='body_mass_g', y='bill_length_mm', alpha=0.7, hue='species', size='gender')"
   ]
  },
  {
   "cell_type": "code",
   "execution_count": null,
   "metadata": {},
   "outputs": [],
   "source": [
    "sns.scatterplot(data=df, x='body_mass_g', y='bill_length_mm', alpha=0.7, hue='species', size='gender');"
   ]
  },
  {
   "cell_type": "code",
   "execution_count": null,
   "metadata": {},
   "outputs": [],
   "source": [
    "plt.figure(figsize=(9, 5))\n",
    "sns.scatterplot(data=df, x='body_mass_g', y='bill_length_mm', alpha=0.7, hue='species', size='gender');"
   ]
  },
  {
   "cell_type": "code",
   "execution_count": null,
   "metadata": {},
   "outputs": [],
   "source": [
    "# Plot\n",
    "plt.figure(figsize=(9, 5))\n",
    "sns.scatterplot(data=df, x='body_mass_g', y='bill_length_mm', alpha=0.7, hue='species', size='gender')\n",
    "plt.legend(loc='upper right', bbox_to_anchor=(1.2, 1));"
   ]
  },
  {
   "cell_type": "code",
   "execution_count": null,
   "metadata": {},
   "outputs": [],
   "source": [
    "# Change default style\n",
    "sns.set_style('whitegrid')\n",
    "# Plot\n",
    "plt.figure(figsize=(9, 5))\n",
    "sns.scatterplot(data=df, x='body_mass_g', y='bill_length_mm', alpha=0.7, hue='species', size='gender')\n",
    "plt.legend(loc='upper right', bbox_to_anchor=(1.2, 1));"
   ]
  },
  {
   "cell_type": "code",
   "execution_count": null,
   "metadata": {},
   "outputs": [],
   "source": [
    "# Change default context\n",
    "sns.set_context('talk')# Plot\n",
    "plt.figure(figsize=(9, 5))\n",
    "sns.scatterplot(data=df, x='body_mass_g', y='bill_length_mm', alpha=0.7, hue='species', size='gender')\n",
    "plt.legend(loc='upper right', bbox_to_anchor=(1.3, 1));"
   ]
  },
  {
   "cell_type": "code",
   "execution_count": null,
   "metadata": {},
   "outputs": [],
   "source": [
    "sns.set_palette('rainbow')# Plot\n",
    "plt.figure(figsize=(9, 5))\n",
    "sns.scatterplot(data=df, x='body_mass_g', y='bill_length_mm', alpha=0.7, hue='species', size='gender')\n",
    "plt.legend(loc='upper right', bbox_to_anchor=(1.3, 1));"
   ]
  },
  {
   "cell_type": "code",
   "execution_count": null,
   "metadata": {},
   "outputs": [],
   "source": [
    "# Change default palette\n",
    "sns.set_palette(['green', 'purple', 'red'])\n",
    "# Plot\n",
    "plt.figure(figsize=(9, 5))\n",
    "sns.scatterplot(data=df, x='body_mass_g', y='bill_length_mm', alpha=0.7, hue='species', size='gender')\n",
    "plt.legend(loc='upper right', bbox_to_anchor=(1.3, 1));"
   ]
  },
  {
   "cell_type": "code",
   "execution_count": null,
   "metadata": {},
   "outputs": [],
   "source": [
    "# Change default palette\n",
    "sns.set_palette(['#62C370', '#FFD166', '#EF476F'])# Plot\n",
    "plt.figure(figsize=(9, 5))\n",
    "sns.scatterplot(data=df, x='body_mass_g', y='bill_length_mm', alpha=0.7, hue='species', size='gender')\n",
    "plt.legend(loc='upper right', bbox_to_anchor=(1.3, 1));"
   ]
  },
  {
   "cell_type": "code",
   "execution_count": null,
   "metadata": {},
   "outputs": [],
   "source": []
  }
 ],
 "metadata": {
  "kernelspec": {
   "display_name": "Python 3 (ipykernel)",
   "language": "python",
   "name": "python3"
  },
  "language_info": {
   "codemirror_mode": {
    "name": "ipython",
    "version": 3
   },
   "file_extension": ".py",
   "mimetype": "text/x-python",
   "name": "python",
   "nbconvert_exporter": "python",
   "pygments_lexer": "ipython3",
   "version": "3.11.4"
  }
 },
 "nbformat": 4,
 "nbformat_minor": 4
}
